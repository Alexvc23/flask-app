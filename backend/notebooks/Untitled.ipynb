{
 "cells": [
  {
   "cell_type": "code",
   "execution_count": 1,
   "id": "803b5466-94f5-4dd2-a2dc-801b92e868f3",
   "metadata": {},
   "outputs": [
    {
     "name": "stdout",
     "output_type": "stream",
     "text": [
      "Error importing modules: No module named 'sqlalchemy'\n"
     ]
    }
   ],
   "source": [
    "try:\n",
    "    from sqlalchemy import create_engine\n",
    "    from sqlalchemy.orm import sessionmaker\n",
    "    from dotenv import load_dotenv\n",
    "    import os\n",
    "\n",
    "    print(\"All modules imported successfully.\")\n",
    "except ImportError as e:\n",
    "    print(f\"Error importing modules: {e}\")\n"
   ]
  },
  {
   "cell_type": "code",
   "execution_count": null,
   "id": "d2790399-f119-4141-90e8-d5da34ba388b",
   "metadata": {},
   "outputs": [],
   "source": []
  }
 ],
 "metadata": {
  "kernelspec": {
   "display_name": "Python 3 (ipykernel)",
   "language": "python",
   "name": "python3"
  },
  "language_info": {
   "codemirror_mode": {
    "name": "ipython",
    "version": 3
   },
   "file_extension": ".py",
   "mimetype": "text/x-python",
   "name": "python",
   "nbconvert_exporter": "python",
   "pygments_lexer": "ipython3",
   "version": "3.11.7"
  }
 },
 "nbformat": 4,
 "nbformat_minor": 5
}
